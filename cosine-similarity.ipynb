{
 "cells": [
  {
   "cell_type": "code",
   "execution_count": 20,
   "metadata": {},
   "outputs": [
    {
     "name": "stdout",
     "output_type": "stream",
     "text": [
      "Similarity betwee  3 1 is  0.22360979743739498\n",
      "Similarity betwee  3 2 is  0.06372863817024925\n",
      "Similarity betwee  3 3 is  0.12083223046959847\n",
      "Similarity betwee  3 4 is  0.11674195505235431\n",
      "Similarity betwee  3 5 is  0.1664835026508439\n",
      "Similarity betwee  3 6 is  0.20064995690540435\n",
      "Similarity betwee  3 7 is  0.18309871652352303\n",
      "Similarity betwee  3 8 is  0.2095424038071012\n",
      "Similarity betwee  3 9 is  0.05519779288412597\n"
     ]
    },
    {
     "name": "stderr",
     "output_type": "stream",
     "text": [
      "[nltk_data] Downloading package punkt to\n",
      "[nltk_data]     C:\\Users\\Admin\\AppData\\Roaming\\nltk_data...\n",
      "[nltk_data]   Package punkt is already up-to-date!\n",
      "c:\\users\\admin\\appdata\\local\\programs\\python\\python37-32\\lib\\site-packages\\sklearn\\feature_extraction\\text.py:300: UserWarning: Your stop_words may be inconsistent with your preprocessing. Tokenizing the stop words generated tokens ['abov', 'afterward', 'alon', 'alreadi', 'alway', 'ani', 'anoth', 'anyon', 'anyth', 'anywher', 'becam', 'becaus', 'becom', 'befor', 'besid', 'cri', 'describ', 'dure', 'els', 'elsewher', 'empti', 'everi', 'everyon', 'everyth', 'everywher', 'fifti', 'formerli', 'forti', 'ha', 'henc', 'hereaft', 'herebi', 'hi', 'howev', 'hundr', 'inde', 'latterli', 'mani', 'meanwhil', 'moreov', 'mostli', 'nobodi', 'noon', 'noth', 'nowher', 'onc', 'onli', 'otherwis', 'ourselv', 'perhap', 'pleas', 'seriou', 'sever', 'sinc', 'sincer', 'sixti', 'someon', 'someth', 'sometim', 'somewher', 'themselv', 'thenc', 'thereaft', 'therebi', 'therefor', 'thi', 'thu', 'togeth', 'twelv', 'twenti', 'veri', 'wa', 'whatev', 'whenc', 'whenev', 'wherea', 'whereaft', 'wherebi', 'wherev', 'whi', 'yourselv'] not in stop_words.\n",
      "  'stop_words.' % sorted(inconsistent))\n"
     ]
    }
   ],
   "source": [
    "import nltk, string\n",
    "from sklearn.feature_extraction.text import TfidfVectorizer\n",
    "import pandas as pd\n",
    "\n",
    "nltk.download('punkt') # if necessary...\n",
    "\n",
    "\n",
    "stemmer = nltk.stem.porter.PorterStemmer()\n",
    "remove_punctuation_map = dict((ord(char), None) for char in string.punctuation)\n",
    "\n",
    "def stem_tokens(tokens):\n",
    "    return [stemmer.stem(item) for item in tokens]\n",
    "\n",
    "'''remove punctuation, lowercase, stem'''\n",
    "def normalize(text):\n",
    "    return stem_tokens(nltk.word_tokenize(text.lower().translate(remove_punctuation_map)))\n",
    "\n",
    "vectorizer = TfidfVectorizer(tokenizer=normalize, stop_words='english')\n",
    "\n",
    "def cosine_sim(text1, text2):\n",
    "    tfidf = vectorizer.fit_transform([text1, text2])\n",
    "    return ((tfidf * tfidf.T).A)[0,1]\n",
    "\n",
    "\n",
    "train= pd.read_csv('train.csv',usecols=['text'])\n",
    "for i in range(len(train['text'])-1):\n",
    "#     if cosine_sim(train['text'][0],train['text'][i+1])>0.5:\n",
    "        print(\"Similarity between\",'3',i+1,\"is \",cosine_sim(train['text'][0],train['text'][i+1]))\n"
   ]
  },
  {
   "cell_type": "code",
   "execution_count": null,
   "metadata": {},
   "outputs": [],
   "source": []
  },
  {
   "cell_type": "code",
   "execution_count": 30,
   "metadata": {},
   "outputs": [
    {
     "name": "stdout",
     "output_type": "stream",
     "text": [
      "Similarity between 3 1 is  0.12083223046959847\n",
      "Similarity between 3 2 is  0.4382448562579034\n",
      "Similarity between 3 3 is  0.2744855626243865\n",
      "Similarity between 3 4 is  1.0\n",
      "Similarity between 3 5 is  0.37823863689333515\n",
      "Similarity between 3 6 is  0.06980811278444463\n",
      "Similarity between 3 7 is  0.19438588123750367\n",
      "Similarity between 3 8 is  0.11743956657713242\n",
      "Similarity between 3 9 is  0.15592892548708362\n"
     ]
    },
    {
     "name": "stderr",
     "output_type": "stream",
     "text": [
      "c:\\users\\admin\\appdata\\local\\programs\\python\\python37-32\\lib\\site-packages\\networkx\\drawing\\nx_pylab.py:579: MatplotlibDeprecationWarning: \n",
      "The iterable function was deprecated in Matplotlib 3.1 and will be removed in 3.3. Use np.iterable instead.\n",
      "  if not cb.iterable(width):\n"
     ]
    },
    {
     "data": {
      "image/png": "[encoded data removed]",
      "text/plain": [
       "<Figure size 432x288 with 1 Axes>"
      ]
     },
     "metadata": {},
     "output_type": "display_data"
    }
   ],
   "source": [
    "#1. Import pyplot and nx\n",
    "import matplotlib.pyplot as plt\n",
    "import networkx as nx\n",
    " \n",
    "def plot_weighted_graph():\n",
    "    \"Plot a weighted graph\"\n",
    " \n",
    "    #2. Add nodes\n",
    "    G = nx.Graph() #2 a graph object called G\n",
    "    node_list = ['0','1','2','3','4','5','6','7','8','9']\n",
    "    for node in node_list:\n",
    "        G.add_node(node)\n",
    " \n",
    "    #Note: You can also try a spring_layout\n",
    "    pos=nx.circular_layout(G) \n",
    "    nx.draw_networkx_nodes(G,pos,node_color='red',node_size=500)\n",
    " \n",
    "    #3. If you want, add labels to the nodes\n",
    "    labels = {}\n",
    "    for node_name in node_list:\n",
    "        labels[str(node_name)] =str(node_name)\n",
    "    nx.draw_networkx_labels(G,pos,labels,font_size=16)\n",
    " \n",
    "    #4. Add the edges (4C2 = 6 combinations)\n",
    "    #NOTE: You usually read this data in from some source\n",
    "    #To keep the example self contained, I typed this out\n",
    "    for i in range(0,len(train['text'])-1):\n",
    "#     if cosine_sim(train['text'][0],train['text'][i+1])>0.5:\n",
    "        print(\"Similarity between\",'3',i+1,\"is \",cosine_sim(train['text'][3],train['text'][i]))\n",
    "        G.add_edge(node_list[3],node_list[i],weight=cosine_sim(train['text'][3],train['text'][i]))\n",
    " \n",
    "    all_weights = []\n",
    "    #4 a. Iterate through the graph nodes to gather all the weights\n",
    "    for (node1,node2,data) in G.edges(data=True):\n",
    "        all_weights.append(data['weight']) #we'll use this when determining edge thickness\n",
    " \n",
    "    #4 b. Get unique weights\n",
    "    unique_weights = list(set(all_weights))\n",
    " \n",
    "    #4 c. Plot the edges - one by one!\n",
    "    for weight in unique_weights:\n",
    "        #4 d. Form a filtered list with just the weight you want to draw\n",
    "        weighted_edges = [(node1,node2) for (node1,node2,edge_attr) in G.edges(data=True) if edge_attr['weight']==weight]\n",
    "        #4 e. I think multiplying by [num_nodes/sum(all_weights)] makes the graphs edges look cleaner\n",
    "        width = weight*len(node_list)*3.0/sum(all_weights)\n",
    "        nx.draw_networkx_edges(G,pos,edgelist=weighted_edges,width=width)\n",
    " \n",
    "    #Plot the graph\n",
    "    plt.axis('off')\n",
    "    plt.title('How often have they played each other?')\n",
    "    plt.savefig(\"chess_legends.png\") \n",
    "    plt.show() \n",
    "#----START OF SCRIPT\n",
    "if __name__=='__main__':\n",
    "    plot_weighted_graph()"
   ]
  },
  {
   "cell_type": "code",
   "execution_count": null,
   "metadata": {},
   "outputs": [],
   "source": []
  }
 ],
 "metadata": {
  "kernelspec": {
   "display_name": "Python 3",
   "language": "python",
   "name": "python3"
  },
  "language_info": {
   "codemirror_mode": {
    "name": "ipython",
    "version": 3
   },
   "file_extension": ".py",
   "mimetype": "text/x-python",
   "name": "python",
   "nbconvert_exporter": "python",
   "pygments_lexer": "ipython3",
   "version": "3.7.4"
  }
 },
 "nbformat": 4,
 "nbformat_minor": 2
}
