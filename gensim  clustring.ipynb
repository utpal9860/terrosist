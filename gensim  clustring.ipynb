{
 "cells": [
  {
   "cell_type": "code",
   "execution_count": 31,
   "metadata": {},
   "outputs": [],
   "source": [
    "import pickle\n",
    "import pandas as pd\n",
    "import numpy\n",
    "import re\n",
    "import os\n",
    "import numpy as np\n",
    "import gensim\n",
    "from sklearn.cluster import KMeans\n",
    "from sklearn.decomposition import PCA\n",
    "from gensim.models import Doc2Vec"
   ]
  },
  {
   "cell_type": "code",
   "execution_count": 32,
   "metadata": {},
   "outputs": [],
   "source": [
    "train= pd.read_csv('train.csv',usecols=['text'])"
   ]
  },
  {
   "cell_type": "code",
   "execution_count": 33,
   "metadata": {},
   "outputs": [
    {
     "name": "stdout",
     "output_type": "stream",
     "text": [
      "1  21  Jammu and Kashmir  Desapani  Armed Assault  Police  Security Patrol  Separatists  Firearms  Firearm\n",
      "1  24  Jammu and Kashmir  Srinagar  Assassination  Government (General)  Sheikh Ghulam Rasool  Separatists  Firearms  Firearm\n"
     ]
    }
   ],
   "source": [
    "print(train['text'][3])\n",
    "print(train['text'][4])"
   ]
  },
  {
   "cell_type": "code",
   "execution_count": 34,
   "metadata": {},
   "outputs": [
    {
     "name": "stdout",
     "output_type": "stream",
     "text": [
      "Number of texts processed:  10\n"
     ]
    }
   ],
   "source": [
    "LabeledSentence1 = gensim.models.doc2vec.TaggedDocument\n",
    "all_content_train = []\n",
    "titles=[]\n",
    "j=0\n",
    "for em in train['text'].values:\n",
    "    all_content_train.append(LabeledSentence1(em,[j]))\n",
    "    titles.append(j)\n",
    "    j+=1\n",
    "print(\"Number of texts processed: \", j)"
   ]
  },
  {
   "cell_type": "code",
   "execution_count": 35,
   "metadata": {},
   "outputs": [
    {
     "name": "stderr",
     "output_type": "stream",
     "text": [
      "c:\\users\\admin\\appdata\\local\\programs\\python\\python37-32\\lib\\site-packages\\gensim\\models\\doc2vec.py:574: UserWarning: The parameter `size` is deprecated, will be removed in 4.0.0, use `vector_size` instead.\n",
      "  warnings.warn(\"The parameter `size` is deprecated, will be removed in 4.0.0, use `vector_size` instead.\")\n"
     ]
    }
   ],
   "source": [
    "d2v_model = Doc2Vec(all_content_train, size = 100, window = 10, min_count = 5, workers=7, dm = 1,alpha=0.025, min_alpha=0.001)\n",
    "# d2v_model.build_vocab(all_content_train)\n",
    "d2v_model.train(all_content_train, total_examples=d2v_model.corpus_count, epochs=10, start_alpha=0.002, end_alpha=-0.016)"
   ]
  },
  {
   "cell_type": "code",
   "execution_count": 36,
   "metadata": {},
   "outputs": [
    {
     "data": {
      "image/png": "[encoded data removed]",
      "text/plain": [
       "<Figure size 432x288 with 1 Axes>"
      ]
     },
     "metadata": {
      "needs_background": "light"
     },
     "output_type": "display_data"
    }
   ],
   "source": [
    "kmeans_model = KMeans(n_clusters=2, init='k-means++', max_iter=100) \n",
    "X = kmeans_model.fit(d2v_model.docvecs.vectors_docs )\n",
    "labels=kmeans_model.labels_.tolist()\n",
    "l = kmeans_model.fit_predict(d2v_model.docvecs.vectors_docs )\n",
    "pca = PCA(n_components=2).fit(d2v_model.docvecs.vectors_docs )\n",
    "datapoint = pca.transform(d2v_model.docvecs.vectors_docs )\n",
    "import matplotlib.pyplot as plt\n",
    "%matplotlib inline\n",
    "plt.figure\n",
    "label1 = [\"#FFFF00\", \"#008000\", \"#0000FF\", \"#800080\"]\n",
    "color = [label1[i] for i in labels]\n",
    "plt.scatter(datapoint[:, 0], datapoint[:, 1], c=color)\n",
    "centroids = kmeans_model.cluster_centers_\n",
    "centroidpoint = pca.transform(centroids)\n",
    "plt.scatter(centroidpoint[:, 0], centroidpoint[:, 1], marker=\"^\", s=150, c=\"#000000\")\n",
    "plt.show()"
   ]
  },
  {
   "cell_type": "code",
   "execution_count": 21,
   "metadata": {},
   "outputs": [],
   "source": [
    "test_str='1  21  Jammu and Kashmir  Desapani  Armed Assault  Police  Security Patrol  Separatists  Firearms  Firearm'.split()\n",
    "\n",
    "similar=d2v_model.docvecs.most_similar([d2v_model.infer_vector(test_str)],topn=3)"
   ]
  },
  {
   "cell_type": "code",
   "execution_count": 22,
   "metadata": {},
   "outputs": [
    {
     "name": "stdout",
     "output_type": "stream",
     "text": [
      "[(1, 0.23221534490585327), (0, 0.10884798318147659), (5, 0.09221819788217545)]\n"
     ]
    }
   ],
   "source": [
    "print(similar)"
   ]
  },
  {
   "cell_type": "code",
   "execution_count": 44,
   "metadata": {},
   "outputs": [
    {
     "data": {
      "image/png": "[encoded data removed]",
      "text/plain": [
       "<Figure size 504x360 with 1 Axes>"
      ]
     },
     "metadata": {
      "needs_background": "light"
     },
     "output_type": "display_data"
    }
   ],
   "source": [
    "# set up plot\n",
    "from mpl_toolkits.mplot3d import Axes3D\n",
    "fig, ax = plt.subplots(figsize=(7, 5)) # set size\n",
    "ax.margins(0.2)\n",
    "# ax = Axes3D(fig)\n",
    "\n",
    "plt.scatter(datapoint[:, 0], datapoint[:, 1],marker=\"^\")\n",
    "x=datapoint[:, 0]\n",
    "y=datapoint[:, 1]\n",
    "\n",
    "\n",
    "\n",
    "# df = pd.DataFrame(dict(x=xs, y=ys, label=cluster, title=titles)) \n",
    "for i in range(len(x)):\n",
    "#     if i==149 or i==3:\n",
    "#         ax.text(x[i], y[i] ,titles[i],size=50)\n",
    "#         print(titles[i])\n",
    "#     else:\n",
    "        ax.text(x[i], y[i] ,titles[i],size=14)  "
   ]
  },
  {
   "cell_type": "code",
   "execution_count": 23,
   "metadata": {},
   "outputs": [],
   "source": [
    "#d2v_model.docvecs.vectors_docs[0]\n"
   ]
  },
  {
   "cell_type": "code",
   "execution_count": null,
   "metadata": {},
   "outputs": [],
   "source": []
  },
  {
   "cell_type": "code",
   "execution_count": 24,
   "metadata": {},
   "outputs": [],
   "source": [
    "#datapoint"
   ]
  },
  {
   "cell_type": "code",
   "execution_count": 36,
   "metadata": {},
   "outputs": [
    {
     "data": {
      "text/plain": [
       "array([1, 1, 1, 1, 1, 1, 1, 0, 0, 0])"
      ]
     },
     "execution_count": 36,
     "metadata": {},
     "output_type": "execute_result"
    }
   ],
   "source": [
    "l"
   ]
  },
  {
   "cell_type": "code",
   "execution_count": 103,
   "metadata": {},
   "outputs": [
    {
     "data": {
      "text/plain": [
       "0.0043367995"
      ]
     },
     "execution_count": 103,
     "metadata": {},
     "output_type": "execute_result"
    }
   ],
   "source": [
    "datapoint[0][1]\n"
   ]
  },
  {
   "cell_type": "code",
   "execution_count": 57,
   "metadata": {},
   "outputs": [
    {
     "data": {
      "text/plain": [
       "10"
      ]
     },
     "execution_count": 57,
     "metadata": {},
     "output_type": "execute_result"
    }
   ],
   "source": [
    "len(datapoint)"
   ]
  },
  {
   "cell_type": "code",
   "execution_count": 60,
   "metadata": {},
   "outputs": [],
   "source": [
    "dist=[]\n",
    "for i in range(len(datapoint)):\n",
    "    dist.append(numpy.linalg.norm(datapoint[3]-datapoint[i]))"
   ]
  },
  {
   "cell_type": "code",
   "execution_count": 30,
   "metadata": {},
   "outputs": [
    {
     "ename": "ValueError",
     "evalue": "Expected 2D array, got 1D array instead:\narray=[-2.5444697e-03  1.0452992e-03 -9.8591018e-04 -3.9981501e-03\n  4.3824078e-03  3.9776387e-03  1.3233823e-03 -7.3305308e-04\n  2.2946114e-03  2.1273745e-03  1.5601704e-03  4.8854495e-03\n -3.9207535e-03 -1.2483603e-03  8.5702643e-04 -3.3937441e-03\n  2.2424450e-05 -2.4942402e-03  3.3054766e-04 -3.6252083e-04\n  5.1529566e-03  2.6595893e-03  7.9403014e-04 -1.6958435e-04\n -1.1400052e-04 -4.6111709e-03  1.1151164e-03 -1.0342225e-03\n -7.5172220e-04 -3.9026618e-03  5.4027298e-03  6.8071015e-05\n  1.3491022e-04  5.9225666e-04  3.5000285e-03 -4.3256236e-03\n  1.2631798e-03  2.5710247e-03 -3.9594811e-03 -5.6955651e-03\n -7.2216608e-08 -3.6225736e-03 -1.9695049e-03  2.6775878e-03\n -7.7824487e-04  3.6039383e-03  4.7597573e-03 -5.5495366e-03\n -1.9402691e-03  6.2987283e-03  2.3582976e-03 -2.5048335e-05\n  5.1617285e-04 -3.6639296e-03  2.0051601e-03 -3.1403853e-03\n  4.4607888e-03 -2.7574603e-03  1.5795521e-03  3.1809068e-05\n -1.0885117e-03  2.1953443e-03  3.4425240e-03  2.5238569e-03\n  2.9794620e-03 -1.0829717e-03  4.3724716e-04 -3.0944969e-03\n  3.0947695e-04 -1.2216350e-03  1.0877709e-03 -4.7319052e-03\n -5.0231428e-03  2.3917763e-03  2.9698929e-03 -9.8701462e-04\n  4.8961723e-03 -4.5041866e-03 -2.8873044e-03 -1.1180609e-04\n -1.8110526e-04 -9.9439418e-04  3.6854933e-03  5.2368571e-03\n  2.2394978e-03 -2.4619310e-03 -4.4392124e-03 -3.0634378e-03\n  4.4391822e-04  2.2545538e-03  2.0606187e-03 -2.1882716e-03\n  5.2837003e-03  2.5033813e-03  4.1999635e-03 -1.2431387e-03\n -2.8113541e-03 -1.5426545e-03 -4.1592531e-03  2.8745178e-04].\nReshape your data either using array.reshape(-1, 1) if your data has a single feature or array.reshape(1, -1) if it contains a single sample.",
     "output_type": "error",
     "traceback": [
      "\u001b[1;31m---------------------------------------------------------------------------\u001b[0m",
      "\u001b[1;31mValueError\u001b[0m                                Traceback (most recent call last)",
      "\u001b[1;32m<ipython-input-30-4752714e461c>\u001b[0m in \u001b[0;36m<module>\u001b[1;34m\u001b[0m\n\u001b[0;32m      4\u001b[0m \u001b[1;32mfor\u001b[0m \u001b[0mi\u001b[0m \u001b[1;32min\u001b[0m \u001b[0mrange\u001b[0m\u001b[1;33m(\u001b[0m\u001b[0mlen\u001b[0m\u001b[1;33m(\u001b[0m\u001b[0mdatapoint\u001b[0m\u001b[1;33m)\u001b[0m\u001b[1;33m-\u001b[0m\u001b[1;36m1\u001b[0m\u001b[1;33m)\u001b[0m\u001b[1;33m:\u001b[0m\u001b[1;33m\u001b[0m\u001b[1;33m\u001b[0m\u001b[0m\n\u001b[0;32m      5\u001b[0m     \u001b[0ms2\u001b[0m\u001b[1;33m=\u001b[0m\u001b[0md2v_model\u001b[0m\u001b[1;33m.\u001b[0m\u001b[0minfer_vector\u001b[0m\u001b[1;33m(\u001b[0m\u001b[0mtrain\u001b[0m\u001b[1;33m[\u001b[0m\u001b[1;34m'text'\u001b[0m\u001b[1;33m]\u001b[0m\u001b[1;33m[\u001b[0m\u001b[0mi\u001b[0m\u001b[1;33m+\u001b[0m\u001b[1;36m1\u001b[0m\u001b[1;33m]\u001b[0m\u001b[1;33m.\u001b[0m\u001b[0msplit\u001b[0m\u001b[1;33m(\u001b[0m\u001b[1;33m)\u001b[0m\u001b[1;33m,\u001b[0m \u001b[0malpha\u001b[0m\u001b[1;33m=\u001b[0m\u001b[1;36m0.025\u001b[0m\u001b[1;33m,\u001b[0m \u001b[0mmin_alpha\u001b[0m\u001b[1;33m=\u001b[0m\u001b[1;36m0.025\u001b[0m\u001b[1;33m,\u001b[0m \u001b[0msteps\u001b[0m\u001b[1;33m=\u001b[0m\u001b[1;36m20\u001b[0m\u001b[1;33m)\u001b[0m\u001b[1;33m\u001b[0m\u001b[1;33m\u001b[0m\u001b[0m\n\u001b[1;32m----> 6\u001b[1;33m     \u001b[0mcos\u001b[0m\u001b[1;33m.\u001b[0m\u001b[0mappend\u001b[0m\u001b[1;33m(\u001b[0m\u001b[0mcosine_similarity\u001b[0m\u001b[1;33m(\u001b[0m\u001b[0ms1\u001b[0m\u001b[1;33m,\u001b[0m\u001b[0ms2\u001b[0m\u001b[1;33m)\u001b[0m\u001b[1;33m)\u001b[0m\u001b[1;33m\u001b[0m\u001b[1;33m\u001b[0m\u001b[0m\n\u001b[0m",
      "\u001b[1;32mc:\\users\\admin\\appdata\\local\\programs\\python\\python37-32\\lib\\site-packages\\sklearn\\metrics\\pairwise.py\u001b[0m in \u001b[0;36mcosine_similarity\u001b[1;34m(X, Y, dense_output)\u001b[0m\n\u001b[0;32m   1025\u001b[0m     \u001b[1;31m# to avoid recursive import\u001b[0m\u001b[1;33m\u001b[0m\u001b[1;33m\u001b[0m\u001b[1;33m\u001b[0m\u001b[0m\n\u001b[0;32m   1026\u001b[0m \u001b[1;33m\u001b[0m\u001b[0m\n\u001b[1;32m-> 1027\u001b[1;33m     \u001b[0mX\u001b[0m\u001b[1;33m,\u001b[0m \u001b[0mY\u001b[0m \u001b[1;33m=\u001b[0m \u001b[0mcheck_pairwise_arrays\u001b[0m\u001b[1;33m(\u001b[0m\u001b[0mX\u001b[0m\u001b[1;33m,\u001b[0m \u001b[0mY\u001b[0m\u001b[1;33m)\u001b[0m\u001b[1;33m\u001b[0m\u001b[1;33m\u001b[0m\u001b[0m\n\u001b[0m\u001b[0;32m   1028\u001b[0m \u001b[1;33m\u001b[0m\u001b[0m\n\u001b[0;32m   1029\u001b[0m     \u001b[0mX_normalized\u001b[0m \u001b[1;33m=\u001b[0m \u001b[0mnormalize\u001b[0m\u001b[1;33m(\u001b[0m\u001b[0mX\u001b[0m\u001b[1;33m,\u001b[0m \u001b[0mcopy\u001b[0m\u001b[1;33m=\u001b[0m\u001b[1;32mTrue\u001b[0m\u001b[1;33m)\u001b[0m\u001b[1;33m\u001b[0m\u001b[1;33m\u001b[0m\u001b[0m\n",
      "\u001b[1;32mc:\\users\\admin\\appdata\\local\\programs\\python\\python37-32\\lib\\site-packages\\sklearn\\metrics\\pairwise.py\u001b[0m in \u001b[0;36mcheck_pairwise_arrays\u001b[1;34m(X, Y, precomputed, dtype)\u001b[0m\n\u001b[0;32m    110\u001b[0m     \u001b[1;32melse\u001b[0m\u001b[1;33m:\u001b[0m\u001b[1;33m\u001b[0m\u001b[1;33m\u001b[0m\u001b[0m\n\u001b[0;32m    111\u001b[0m         X = check_array(X, accept_sparse='csr', dtype=dtype,\n\u001b[1;32m--> 112\u001b[1;33m                         estimator=estimator)\n\u001b[0m\u001b[0;32m    113\u001b[0m         Y = check_array(Y, accept_sparse='csr', dtype=dtype,\n\u001b[0;32m    114\u001b[0m                         estimator=estimator)\n",
      "\u001b[1;32mc:\\users\\admin\\appdata\\local\\programs\\python\\python37-32\\lib\\site-packages\\sklearn\\utils\\validation.py\u001b[0m in \u001b[0;36mcheck_array\u001b[1;34m(array, accept_sparse, accept_large_sparse, dtype, order, copy, force_all_finite, ensure_2d, allow_nd, ensure_min_samples, ensure_min_features, warn_on_dtype, estimator)\u001b[0m\n\u001b[0;32m    519\u001b[0m                     \u001b[1;34m\"Reshape your data either using array.reshape(-1, 1) if \"\u001b[0m\u001b[1;33m\u001b[0m\u001b[1;33m\u001b[0m\u001b[0m\n\u001b[0;32m    520\u001b[0m                     \u001b[1;34m\"your data has a single feature or array.reshape(1, -1) \"\u001b[0m\u001b[1;33m\u001b[0m\u001b[1;33m\u001b[0m\u001b[0m\n\u001b[1;32m--> 521\u001b[1;33m                     \"if it contains a single sample.\".format(array))\n\u001b[0m\u001b[0;32m    522\u001b[0m \u001b[1;33m\u001b[0m\u001b[0m\n\u001b[0;32m    523\u001b[0m         \u001b[1;31m# in the future np.flexible dtypes will be handled like object dtypes\u001b[0m\u001b[1;33m\u001b[0m\u001b[1;33m\u001b[0m\u001b[1;33m\u001b[0m\u001b[0m\n",
      "\u001b[1;31mValueError\u001b[0m: Expected 2D array, got 1D array instead:\narray=[-2.5444697e-03  1.0452992e-03 -9.8591018e-04 -3.9981501e-03\n  4.3824078e-03  3.9776387e-03  1.3233823e-03 -7.3305308e-04\n  2.2946114e-03  2.1273745e-03  1.5601704e-03  4.8854495e-03\n -3.9207535e-03 -1.2483603e-03  8.5702643e-04 -3.3937441e-03\n  2.2424450e-05 -2.4942402e-03  3.3054766e-04 -3.6252083e-04\n  5.1529566e-03  2.6595893e-03  7.9403014e-04 -1.6958435e-04\n -1.1400052e-04 -4.6111709e-03  1.1151164e-03 -1.0342225e-03\n -7.5172220e-04 -3.9026618e-03  5.4027298e-03  6.8071015e-05\n  1.3491022e-04  5.9225666e-04  3.5000285e-03 -4.3256236e-03\n  1.2631798e-03  2.5710247e-03 -3.9594811e-03 -5.6955651e-03\n -7.2216608e-08 -3.6225736e-03 -1.9695049e-03  2.6775878e-03\n -7.7824487e-04  3.6039383e-03  4.7597573e-03 -5.5495366e-03\n -1.9402691e-03  6.2987283e-03  2.3582976e-03 -2.5048335e-05\n  5.1617285e-04 -3.6639296e-03  2.0051601e-03 -3.1403853e-03\n  4.4607888e-03 -2.7574603e-03  1.5795521e-03  3.1809068e-05\n -1.0885117e-03  2.1953443e-03  3.4425240e-03  2.5238569e-03\n  2.9794620e-03 -1.0829717e-03  4.3724716e-04 -3.0944969e-03\n  3.0947695e-04 -1.2216350e-03  1.0877709e-03 -4.7319052e-03\n -5.0231428e-03  2.3917763e-03  2.9698929e-03 -9.8701462e-04\n  4.8961723e-03 -4.5041866e-03 -2.8873044e-03 -1.1180609e-04\n -1.8110526e-04 -9.9439418e-04  3.6854933e-03  5.2368571e-03\n  2.2394978e-03 -2.4619310e-03 -4.4392124e-03 -3.0634378e-03\n  4.4391822e-04  2.2545538e-03  2.0606187e-03 -2.1882716e-03\n  5.2837003e-03  2.5033813e-03  4.1999635e-03 -1.2431387e-03\n -2.8113541e-03 -1.5426545e-03 -4.1592531e-03  2.8745178e-04].\nReshape your data either using array.reshape(-1, 1) if your data has a single feature or array.reshape(1, -1) if it contains a single sample."
     ]
    }
   ],
   "source": [
    "from sklearn.metrics.pairwise import cosine_similarity\n",
    "s1 = d2v_model.infer_vector(train['text'][3].split(), alpha=0.025, min_alpha=0.025, steps=20)\n",
    "cos=[]\n",
    "for i in range(len(datapoint)-1):\n",
    "    s2=d2v_model.infer_vector(train['text'][i+1].split(), alpha=0.025, min_alpha=0.025, steps=20)\n",
    "    cos.append(cosine_similarity(s1,s2))"
   ]
  },
  {
   "cell_type": "code",
   "execution_count": 61,
   "metadata": {},
   "outputs": [
    {
     "data": {
      "text/plain": [
       "[0.020051127,\n",
       " 0.026434032,\n",
       " 0.04080335,\n",
       " 0.0,\n",
       " 0.022760868,\n",
       " 0.008609142,\n",
       " 0.02304654,\n",
       " 0.03581762,\n",
       " 0.025401665,\n",
       " 0.024374275]"
      ]
     },
     "execution_count": 61,
     "metadata": {},
     "output_type": "execute_result"
    }
   ],
   "source": [
    "dist"
   ]
  },
  {
   "cell_type": "code",
   "execution_count": 62,
   "metadata": {},
   "outputs": [],
   "source": [
    "similarity=[]\n",
    "for i in dist:\n",
    "    similarity.append(1-i)"
   ]
  },
  {
   "cell_type": "code",
   "execution_count": 63,
   "metadata": {},
   "outputs": [
    {
     "data": {
      "text/plain": [
       "[0.9799488727003336,\n",
       " 0.9735659677535295,\n",
       " 0.959196649491787,\n",
       " 1.0,\n",
       " 0.9772391319274902,\n",
       " 0.9913908578455448,\n",
       " 0.9769534599035978,\n",
       " 0.9641823805868626,\n",
       " 0.9745983351022005,\n",
       " 0.9756257254630327]"
      ]
     },
     "execution_count": 63,
     "metadata": {},
     "output_type": "execute_result"
    }
   ],
   "source": [
    "similarity"
   ]
  },
  {
   "cell_type": "code",
   "execution_count": null,
   "metadata": {},
   "outputs": [],
   "source": []
  }
 ],
 "metadata": {
  "kernelspec": {
   "display_name": "Python 3",
   "language": "python",
   "name": "python3"
  },
  "language_info": {
   "codemirror_mode": {
    "name": "ipython",
    "version": 3
   },
   "file_extension": ".py",
   "mimetype": "text/x-python",
   "name": "python",
   "nbconvert_exporter": "python",
   "pygments_lexer": "ipython3",
   "version": "3.7.4"
  }
 },
 "nbformat": 4,
 "nbformat_minor": 2
}
