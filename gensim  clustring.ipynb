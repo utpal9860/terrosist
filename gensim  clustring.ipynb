{
 "cells": [
  {
   "cell_type": "code",
   "execution_count": 13,
   "metadata": {},
   "outputs": [],
   "source": [
    "import pickle\n",
    "import pandas as pd\n",
    "import numpy\n",
    "import re\n",
    "import os\n",
    "import numpy as np\n",
    "import gensim\n",
    "from sklearn.cluster import KMeans\n",
    "from sklearn.decomposition import PCA\n",
    "from gensim.models import Doc2Vec"
   ]
  },
  {
   "cell_type": "code",
   "execution_count": 95,
   "metadata": {},
   "outputs": [],
   "source": [
    "train= pd.read_csv('train.csv',usecols=['text'])"
   ]
  },
  {
   "cell_type": "code",
   "execution_count": 96,
   "metadata": {},
   "outputs": [
    {
     "data": {
      "text/html": [
       "<div>\n",
       "<style scoped>\n",
       "    .dataframe tbody tr th:only-of-type {\n",
       "        vertical-align: middle;\n",
       "    }\n",
       "\n",
       "    .dataframe tbody tr th {\n",
       "        vertical-align: top;\n",
       "    }\n",
       "\n",
       "    .dataframe thead th {\n",
       "        text-align: right;\n",
       "    }\n",
       "</style>\n",
       "<table border=\"1\" class=\"dataframe\">\n",
       "  <thead>\n",
       "    <tr style=\"text-align: right;\">\n",
       "      <th></th>\n",
       "      <th>text</th>\n",
       "    </tr>\n",
       "  </thead>\n",
       "  <tbody>\n",
       "    <tr>\n",
       "      <td>0</td>\n",
       "      <td>1  3  Delhi  New Delhi  Bombing/Explosion  Pri...</td>\n",
       "    </tr>\n",
       "    <tr>\n",
       "      <td>1</td>\n",
       "      <td>1  5  Jammu and Kashmir  Barshala  Armed Assau...</td>\n",
       "    </tr>\n",
       "    <tr>\n",
       "      <td>2</td>\n",
       "      <td>1  20  Bihar  Gaya  Armed Assault  Police  Pol...</td>\n",
       "    </tr>\n",
       "    <tr>\n",
       "      <td>3</td>\n",
       "      <td>1  21  Jammu and Kashmir  Desapani  Armed Assa...</td>\n",
       "    </tr>\n",
       "    <tr>\n",
       "      <td>4</td>\n",
       "      <td>1  24  Jammu and Kashmir  Srinagar  Assassinat...</td>\n",
       "    </tr>\n",
       "    <tr>\n",
       "      <td>5</td>\n",
       "      <td>1  26  Rajasthan  Jaipur  Bombing/Explosion  G...</td>\n",
       "    </tr>\n",
       "    <tr>\n",
       "      <td>6</td>\n",
       "      <td>1  26  Jammu and Kashmir  Srinagar  Bombing/Ex...</td>\n",
       "    </tr>\n",
       "    <tr>\n",
       "      <td>7</td>\n",
       "      <td>1  26  Manipur  Imphal  Bombing/Explosion  Mil...</td>\n",
       "    </tr>\n",
       "    <tr>\n",
       "      <td>8</td>\n",
       "      <td>1  26  Jammu and Kashmir  Srinagar  Bombing/Ex...</td>\n",
       "    </tr>\n",
       "    <tr>\n",
       "      <td>9</td>\n",
       "      <td>1  30  Karnataka  Bangalore  Unknown  Business...</td>\n",
       "    </tr>\n",
       "  </tbody>\n",
       "</table>\n",
       "</div>"
      ],
      "text/plain": [
       "                                                text\n",
       "0  1  3  Delhi  New Delhi  Bombing/Explosion  Pri...\n",
       "1  1  5  Jammu and Kashmir  Barshala  Armed Assau...\n",
       "2  1  20  Bihar  Gaya  Armed Assault  Police  Pol...\n",
       "3  1  21  Jammu and Kashmir  Desapani  Armed Assa...\n",
       "4  1  24  Jammu and Kashmir  Srinagar  Assassinat...\n",
       "5  1  26  Rajasthan  Jaipur  Bombing/Explosion  G...\n",
       "6  1  26  Jammu and Kashmir  Srinagar  Bombing/Ex...\n",
       "7  1  26  Manipur  Imphal  Bombing/Explosion  Mil...\n",
       "8  1  26  Jammu and Kashmir  Srinagar  Bombing/Ex...\n",
       "9  1  30  Karnataka  Bangalore  Unknown  Business..."
      ]
     },
     "execution_count": 96,
     "metadata": {},
     "output_type": "execute_result"
    }
   ],
   "source": [
    "train"
   ]
  },
  {
   "cell_type": "code",
   "execution_count": 79,
   "metadata": {},
   "outputs": [
    {
     "name": "stdout",
     "output_type": "stream",
     "text": [
      "Number of texts processed:  10\n"
     ]
    }
   ],
   "source": [
    "LabeledSentence1 = gensim.models.doc2vec.TaggedDocument\n",
    "all_content_train = []\n",
    "titles=[]\n",
    "j=0\n",
    "for em in train['text'].values:\n",
    "    all_content_train.append(LabeledSentence1(em,[j]))\n",
    "    titles.append(j)\n",
    "    j+=1\n",
    "print(\"Number of texts processed: \", j)"
   ]
  },
  {
   "cell_type": "code",
   "execution_count": 97,
   "metadata": {},
   "outputs": [
    {
     "name": "stderr",
     "output_type": "stream",
     "text": [
      "c:\\users\\admin\\appdata\\local\\programs\\python\\python37-32\\lib\\site-packages\\gensim\\models\\doc2vec.py:574: UserWarning: The parameter `size` is deprecated, will be removed in 4.0.0, use `vector_size` instead.\n",
      "  warnings.warn(\"The parameter `size` is deprecated, will be removed in 4.0.0, use `vector_size` instead.\")\n"
     ]
    }
   ],
   "source": [
    "d2v_model = Doc2Vec(all_content_train, size = 100, window = 10, min_count = 5, workers=7, dm = 1,alpha=0.025, min_alpha=0.001)\n",
    "d2v_model.train(all_content_train, total_examples=d2v_model.corpus_count, epochs=10, start_alpha=0.002, end_alpha=-0.016)"
   ]
  },
  {
   "cell_type": "code",
   "execution_count": 98,
   "metadata": {},
   "outputs": [
    {
     "data": {
      "image/png": "[encoded data removed]",
      "text/plain": [
       "<Figure size 432x288 with 1 Axes>"
      ]
     },
     "metadata": {
      "needs_background": "light"
     },
     "output_type": "display_data"
    }
   ],
   "source": [
    "kmeans_model = KMeans(n_clusters=2, init='k-means++', max_iter=100) \n",
    "X = kmeans_model.fit(d2v_model.docvecs.vectors_docs )\n",
    "labels=kmeans_model.labels_.tolist()\n",
    "l = kmeans_model.fit_predict(d2v_model.docvecs.vectors_docs )\n",
    "pca = PCA(n_components=2).fit(d2v_model.docvecs.vectors_docs )\n",
    "datapoint = pca.transform(d2v_model.docvecs.vectors_docs )\n",
    "import matplotlib.pyplot as plt\n",
    "%matplotlib inline\n",
    "plt.figure\n",
    "label1 = [\"#FFFF00\", \"#008000\", \"#0000FF\", \"#800080\"]\n",
    "color = [label1[i] for i in labels]\n",
    "plt.scatter(datapoint[:, 0], datapoint[:, 1], c=color)\n",
    "centroids = kmeans_model.cluster_centers_\n",
    "centroidpoint = pca.transform(centroids)\n",
    "plt.scatter(centroidpoint[:, 0], centroidpoint[:, 1], marker=\"^\", s=150, c=\"#000000\")\n",
    "plt.show()"
   ]
  },
  {
   "cell_type": "code",
   "execution_count": null,
   "metadata": {},
   "outputs": [],
   "source": []
  },
  {
   "cell_type": "code",
   "execution_count": 100,
   "metadata": {},
   "outputs": [
    {
     "name": "stdout",
     "output_type": "stream",
     "text": [
      "3\n"
     ]
    },
    {
     "data": {
      "image/png": "[encoded data removed]",
      "text/plain": [
       "<Figure size 1080x720 with 1 Axes>"
      ]
     },
     "metadata": {
      "needs_background": "light"
     },
     "output_type": "display_data"
    }
   ],
   "source": [
    "# set up plot\n",
    "from mpl_toolkits.mplot3d import Axes3D\n",
    "fig, ax = plt.subplots(figsize=(15, 10)) # set size\n",
    "ax.margins(0.5)\n",
    "# ax = Axes3D(fig)\n",
    "\n",
    "plt.scatter(datapoint[:, 0], datapoint[:, 1],marker=\"^\")\n",
    "x=datapoint[:, 0]\n",
    "y=datapoint[:, 1]\n",
    "\n",
    "\n",
    "\n",
    "# df = pd.DataFrame(dict(x=xs, y=ys, label=cluster, title=titles)) \n",
    "for i in range(len(x)):\n",
    "    if i==149 or i==3:\n",
    "        ax.text(x[i], y[i] ,titles[i],size=50)\n",
    "        print(titles[i])\n",
    "    else:\n",
    "        ax.text(x[i], y[i] ,titles[i],size=14)  "
   ]
  },
  {
   "cell_type": "code",
   "execution_count": 112,
   "metadata": {},
   "outputs": [
    {
     "data": {
      "text/plain": [
       "array([-6.33291900e-03, -3.24351527e-03, -4.69927583e-03,  5.01323491e-03,\n",
       "       -5.05584618e-03,  1.64694688e-03, -1.17181521e-03, -2.26393878e-03,\n",
       "       -6.67281915e-03,  5.34667459e-04,  1.30868598e-03,  1.92523387e-03,\n",
       "       -1.97238638e-03, -8.87777936e-03,  2.19816901e-03,  6.17647730e-03,\n",
       "       -5.65464329e-03,  3.57132126e-03,  2.55775871e-03, -1.89594779e-04,\n",
       "       -3.18931532e-03,  1.06010875e-02,  3.97043768e-03, -4.97226603e-03,\n",
       "        1.05370246e-02, -2.45410576e-03, -2.39320783e-04, -1.56765385e-03,\n",
       "        1.66729162e-03, -9.97102633e-03, -2.09461595e-03, -7.13523244e-03,\n",
       "        3.96977412e-03,  3.40777752e-03, -1.74056168e-03,  4.28090757e-03,\n",
       "        8.58324755e-04, -6.64560881e-04,  6.72754133e-04,  5.17947599e-03,\n",
       "        4.78600338e-03, -3.77055723e-03,  4.14072303e-03, -1.88168872e-03,\n",
       "        3.46880220e-03, -5.58247091e-03, -1.61059957e-03, -1.81907450e-03,\n",
       "        1.73781897e-04,  2.63160910e-03,  1.16597675e-02,  2.82486784e-03,\n",
       "        5.25628496e-03,  3.86634376e-03,  3.36626777e-03,  9.25024226e-03,\n",
       "        6.16616104e-04,  4.35663416e-04, -2.46947259e-03,  5.21453330e-05,\n",
       "        1.82298140e-03, -9.84549988e-04,  1.42482971e-03, -7.03351852e-03,\n",
       "       -9.01942793e-03,  1.51768990e-03, -8.61371285e-04, -4.34000627e-04,\n",
       "        3.06848739e-03,  8.35860148e-03,  7.45849311e-03, -5.48076350e-03,\n",
       "        4.05796431e-03, -5.63301332e-03, -4.12565283e-03, -2.28292629e-04,\n",
       "       -5.91306156e-03,  8.55880138e-03, -4.27339599e-03, -1.66267063e-03,\n",
       "       -2.74577946e-03,  2.60816189e-03,  7.04217562e-03, -6.32090494e-03,\n",
       "       -1.03470951e-03, -2.99259229e-03,  2.19702488e-03, -1.09396651e-02,\n",
       "        3.49882664e-03,  2.27100286e-03,  9.28661961e-04, -4.50895028e-03,\n",
       "        1.27412584e-02, -1.02243191e-02,  4.74948250e-03,  3.46016721e-03,\n",
       "       -2.06012605e-03, -3.88734392e-03, -8.44918774e-04,  3.98877123e-03],\n",
       "      dtype=float32)"
      ]
     },
     "execution_count": 112,
     "metadata": {},
     "output_type": "execute_result"
    }
   ],
   "source": [
    "d2v_model.docvecs.vectors_docs[0]\n"
   ]
  },
  {
   "cell_type": "code",
   "execution_count": 102,
   "metadata": {},
   "outputs": [
    {
     "data": {
      "text/plain": [
       "array([[ 0.04598729,  0.0043368 ],\n",
       "       [ 0.03000777, -0.01509147],\n",
       "       [ 0.0015343 , -0.00198917],\n",
       "       [ 0.0125853 , -0.00153276],\n",
       "       [ 0.01400942, -0.00372229],\n",
       "       [ 0.0191274 ,  0.00395685],\n",
       "       [-0.00563338,  0.01847715],\n",
       "       [-0.03778777, -0.00561859],\n",
       "       [-0.03415322,  0.01718687],\n",
       "       [-0.04567711, -0.01600337]], dtype=float32)"
      ]
     },
     "execution_count": 102,
     "metadata": {},
     "output_type": "execute_result"
    }
   ],
   "source": [
    "datapoint"
   ]
  },
  {
   "cell_type": "code",
   "execution_count": 36,
   "metadata": {},
   "outputs": [
    {
     "data": {
      "text/plain": [
       "array([1, 1, 1, 1, 1, 1, 1, 0, 0, 0])"
      ]
     },
     "execution_count": 36,
     "metadata": {},
     "output_type": "execute_result"
    }
   ],
   "source": [
    "l"
   ]
  },
  {
   "cell_type": "code",
   "execution_count": 103,
   "metadata": {},
   "outputs": [
    {
     "data": {
      "text/plain": [
       "0.0043367995"
      ]
     },
     "execution_count": 103,
     "metadata": {},
     "output_type": "execute_result"
    }
   ],
   "source": [
    "datapoint[0][1]\n"
   ]
  },
  {
   "cell_type": "code",
   "execution_count": null,
   "metadata": {},
   "outputs": [],
   "source": []
  },
  {
   "cell_type": "code",
   "execution_count": 105,
   "metadata": {},
   "outputs": [],
   "source": [
    "dist=[]\n",
    "for i in range(len(datapoint)-1):\n",
    "    dist.append(numpy.linalg.norm(datapoint[3]-datapoint[i+1]))"
   ]
  },
  {
   "cell_type": "code",
   "execution_count": 106,
   "metadata": {},
   "outputs": [
    {
     "data": {
      "text/plain": [
       "0.060032554"
      ]
     },
     "execution_count": 106,
     "metadata": {},
     "output_type": "execute_result"
    }
   ],
   "source": [
    "max(dist)"
   ]
  },
  {
   "cell_type": "code",
   "execution_count": 107,
   "metadata": {},
   "outputs": [
    {
     "data": {
      "text/plain": [
       "[0.022076707,\n",
       " 0.011060422,\n",
       " 0.0,\n",
       " 0.0026119223,\n",
       " 0.008540189,\n",
       " 0.027061358,\n",
       " 0.050538503,\n",
       " 0.050347928,\n",
       " 0.060032554]"
      ]
     },
     "execution_count": 107,
     "metadata": {},
     "output_type": "execute_result"
    }
   ],
   "source": [
    "dist"
   ]
  },
  {
   "cell_type": "code",
   "execution_count": null,
   "metadata": {},
   "outputs": [],
   "source": []
  }
 ],
 "metadata": {
  "kernelspec": {
   "display_name": "Python 3",
   "language": "python",
   "name": "python3"
  },
  "language_info": {
   "codemirror_mode": {
    "name": "ipython",
    "version": 3
   },
   "file_extension": ".py",
   "mimetype": "text/x-python",
   "name": "python",
   "nbconvert_exporter": "python",
   "pygments_lexer": "ipython3",
   "version": "3.7.4"
  }
 },
 "nbformat": 4,
 "nbformat_minor": 2
}
